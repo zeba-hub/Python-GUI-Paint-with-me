{
 "cells": [
  {
   "cell_type": "code",
   "execution_count": 1,
   "metadata": {},
   "outputs": [],
   "source": [
    "from tkinter import *\n",
    "import tkinter.ttk as ttk\n",
    "from tkinter import colorchooser\n",
    "from tkinter import filedialog\n",
    "from tkinter import messagebox"
   ]
  },
  {
   "cell_type": "code",
   "execution_count": 2,
   "metadata": {},
   "outputs": [],
   "source": [
    "#pip install Pillow\n"
   ]
  },
  {
   "cell_type": "code",
   "execution_count": 3,
   "metadata": {},
   "outputs": [],
   "source": [
    "# To save the img, i will take snapshot of entire window and subtract the canvas\n",
    "import PIL\n",
    "from PIL import Image,ImageDraw,ImageGrab,ImageTk"
   ]
  },
  {
   "cell_type": "code",
   "execution_count": 4,
   "metadata": {},
   "outputs": [],
   "source": [
    "window= Tk()"
   ]
  },
  {
   "cell_type": "code",
   "execution_count": 5,
   "metadata": {},
   "outputs": [
    {
     "data": {
      "text/plain": [
       "''"
      ]
     },
     "execution_count": 5,
     "metadata": {},
     "output_type": "execute_result"
    }
   ],
   "source": [
    "#Give the title of the GUI window\n",
    "window.title(\"Paint GUI using python\")\n",
    "#set the size of the window\n",
    "window.geometry(\"800x800\")"
   ]
  },
  {
   "cell_type": "code",
   "execution_count": 6,
   "metadata": {},
   "outputs": [],
   "source": [
    "brush_color=\"black\""
   ]
  },
  {
   "cell_type": "code",
   "execution_count": 7,
   "metadata": {},
   "outputs": [],
   "source": [
    "#event - e- to do something, track of mouse\n",
    "def paint(e):\n",
    "    \n",
    "    #Brush Parameters\n",
    "    brush_width='%0.0f' % float(my_slider.get())\n",
    "    #brush_color=\"Green\"\n",
    "    #Brush type : BUTT,ROUND,PROJECTING\n",
    "    brush_type2=brush_type.get()\n",
    "    \n",
    "    #Starting position\n",
    "    x1=e.x-1\n",
    "    y1=e.y-1\n",
    "    # Ending position\n",
    "    x2=e.x+1\n",
    "    y2=e.y+1\n",
    "    \n",
    "    #Draw on canvas\n",
    "    my_canvas.create_line(x1,y1,x2,y2,fill=brush_color,width= brush_width,capstyle=brush_type2,smooth=True)\n",
    "    #my_canvas.config(bg=\"black\")"
   ]
  },
  {
   "cell_type": "code",
   "execution_count": 8,
   "metadata": {},
   "outputs": [],
   "source": [
    "#Change the size of brush\n",
    "def change_brush_size(thing):\n",
    "     slider_label.config(text='%0.0f' % float(my_slider.get()))"
   ]
  },
  {
   "cell_type": "code",
   "execution_count": 9,
   "metadata": {},
   "outputs": [],
   "source": [
    "#Change Brush color\n",
    "def change_brush_color():\n",
    "    global brush_color\n",
    "    brush_color=\"black\"\n",
    "    brush_color=colorchooser.askcolor(color=brush_color)[1] # Hex color output is 1\n",
    "    #color= Label(window,text=brush_color)\n",
    "    #color.pack(pady=20)\n",
    "\n"
   ]
  },
  {
   "cell_type": "code",
   "execution_count": 10,
   "metadata": {},
   "outputs": [],
   "source": [
    "def change_canvas_color():\n",
    "    global bg_color\n",
    "    bg_color=\"black\"\n",
    "    bg_color=colorchooser.askcolor(color=bg_color)[1] \n",
    "    my_canvas.config(bg=bg_color)"
   ]
  },
  {
   "cell_type": "code",
   "execution_count": 11,
   "metadata": {},
   "outputs": [],
   "source": [
    "def clear_screen():\n",
    "    my_canvas.delete(ALL)\n",
    "    my_canvas.config(bg=\"white\")"
   ]
  },
  {
   "cell_type": "code",
   "execution_count": 12,
   "metadata": {},
   "outputs": [],
   "source": [
    "def save_as_png():\n",
    "    result = filedialog.asksaveasfilename(filetypes=((\"png files\",\"*.png\"),(\"all files\",\"*.*\")))\n",
    "    #result_label=Label(window,text=result)\n",
    "    #result_label.pack(pady=20)\n",
    "                      \n",
    "    if result.endswith('.png'):\n",
    "         pass\n",
    "    else:\n",
    "        result = result+'.png'\n",
    "    \n",
    "    if result:\n",
    "        x=window.winfo_rootx() + my_canvas.winfo_x()\n",
    "        y=window.winfo_rooty() + my_canvas.winfo_y()\n",
    "        x1=x+my_canvas.winfo_width()\n",
    "        y1=x+my_canvas.winfo_height()\n",
    "        ImageGrab.grab().crop((x,y,x1,y1)).save(result)\n",
    "        \n",
    "    #Pop-up message box\n",
    "    messagebox.showinfo(\"Your image is saved\")"
   ]
  },
  {
   "cell_type": "code",
   "execution_count": 13,
   "metadata": {},
   "outputs": [],
   "source": [
    "#creating variables instead of hard coding\n",
    "w=600\n",
    "h=400"
   ]
  },
  {
   "cell_type": "code",
   "execution_count": 14,
   "metadata": {},
   "outputs": [],
   "source": [
    "#Canvas-- You can drop, create shape and place on it.\n",
    "# Create canvas\n",
    "my_canvas=Canvas(window,width=w,height=h,bg=\"White\")\n",
    "\n",
    "#to put it on screen\n",
    "my_canvas.pack(pady=20)"
   ]
  },
  {
   "cell_type": "code",
   "execution_count": 15,
   "metadata": {},
   "outputs": [],
   "source": [
    "#x1=0\n",
    "#y1=100\n",
    "#x2=300\n",
    "#y2=100"
   ]
  },
  {
   "cell_type": "code",
   "execution_count": 16,
   "metadata": {},
   "outputs": [],
   "source": [
    "# Draw a basic line on canvas\n",
    "#my_canvas.create_line(x1,y1,x2,y2,fill='red')\n",
    "#my_canvas.create_line(150,0,150,200,fill='red')"
   ]
  },
  {
   "cell_type": "code",
   "execution_count": 17,
   "metadata": {},
   "outputs": [
    {
     "data": {
      "text/plain": [
       "'2658870753544paint'"
      ]
     },
     "execution_count": 17,
     "metadata": {},
     "output_type": "execute_result"
    }
   ],
   "source": [
    "#Bind the mouse to the canvas # binding a widget, move the mouse, record that/bind that \n",
    "my_canvas.bind('<B1-Motion>',paint) #B1- Left mouse button- motion"
   ]
  },
  {
   "cell_type": "code",
   "execution_count": 18,
   "metadata": {},
   "outputs": [],
   "source": [
    "#create Brush options Frame\n",
    "#Frame is a box to hold items\n",
    "brush_options_frame=Frame(window)\n",
    "brush_options_frame.pack(pady=20)"
   ]
  },
  {
   "cell_type": "code",
   "execution_count": 19,
   "metadata": {},
   "outputs": [],
   "source": [
    "#Brush size\n",
    "brush_size_frame=LabelFrame(brush_options_frame, text=\"Brush Size\")\n",
    "brush_size_frame.grid(row=0,column=0,padx=50) # Grid allows to postion things properly"
   ]
  },
  {
   "cell_type": "code",
   "execution_count": 20,
   "metadata": {},
   "outputs": [],
   "source": [
    "#Brush Slider\n",
    "my_slider=ttk.Scale(brush_size_frame,from_=1,to=100,command=change_brush_size,orient=VERTICAL,value=10)\n",
    "my_slider.pack(padx=10,pady=10)\n",
    "\n",
    "#Brush Slider label\n",
    "slider_label= LabelFrame(brush_size_frame,text=my_slider.get())\n",
    "slider_label.pack(pady=5)"
   ]
  },
  {
   "cell_type": "code",
   "execution_count": 21,
   "metadata": {},
   "outputs": [],
   "source": [
    "#Brush Type\n",
    "brush_type_frame= LabelFrame(brush_options_frame,text=\"Brush Type\",height=400)\n",
    "brush_type_frame.grid(row=0,column=1,padx=50)\n",
    "brush_type=StringVar()\n",
    "brush_type.set(\"round\")\n",
    "\n",
    "#Create Radio button for brush type\n",
    "brush_type_radio1=Radiobutton(brush_type_frame,text='Round',variable=brush_type,value=\"round\")\n",
    "brush_type_radio2=Radiobutton(brush_type_frame,text='Slash',variable=brush_type,value=\"butt\")\n",
    "brush_type_radio3=Radiobutton(brush_type_frame,text='Diamond',variable=brush_type,value=\"projecting\")\n",
    "\n",
    "brush_type_radio1.pack(anchor=W) #align to left\n",
    "brush_type_radio2.pack(anchor=W)\n",
    "brush_type_radio3.pack(anchor=W)\n"
   ]
  },
  {
   "cell_type": "code",
   "execution_count": 22,
   "metadata": {},
   "outputs": [],
   "source": [
    "#Change colors\n",
    "change_colors_frame = LabelFrame(brush_options_frame,text=\"Change Colors\")\n",
    "change_colors_frame.grid(row=0,column=2)\n",
    "\n",
    "#Change Brush color button\n",
    "brush_color_button = Button(change_colors_frame,text=\"Brush Color\",command=change_brush_color)\n",
    "brush_color_button.pack(pady=10,padx=10)"
   ]
  },
  {
   "cell_type": "code",
   "execution_count": 23,
   "metadata": {},
   "outputs": [],
   "source": [
    "#Change Canvas background color\n",
    "canvas_color_button = Button(change_colors_frame,text=\"Canvas Color\",command=change_canvas_color)\n",
    "canvas_color_button.pack(pady=10,padx=10)"
   ]
  },
  {
   "cell_type": "code",
   "execution_count": 24,
   "metadata": {},
   "outputs": [],
   "source": [
    "#Program Options Frame\n",
    "options_frame = LabelFrame(brush_options_frame,text=\"Program Options\")\n",
    "options_frame.grid(row=0,column=3,padx=50)\n",
    "\n",
    "#Clear Button\n",
    "clear_button=Button(options_frame,text=\"Clear Screen\",command=clear_screen)\n",
    "clear_button.pack(padx=10,pady=10)"
   ]
  },
  {
   "cell_type": "code",
   "execution_count": 25,
   "metadata": {},
   "outputs": [],
   "source": [
    "#Save Image\n",
    "save_image_button=Button(options_frame,text=\"save to png\",command=save_as_png)\n",
    "save_image_button.pack(pady=10,padx=10)"
   ]
  },
  {
   "cell_type": "code",
   "execution_count": 26,
   "metadata": {},
   "outputs": [],
   "source": [
    "#to invoke the window, we have to loop it\n",
    "window.mainloop() "
   ]
  }
 ],
 "metadata": {
  "kernelspec": {
   "display_name": "Python 3",
   "language": "python",
   "name": "python3"
  },
  "language_info": {
   "codemirror_mode": {
    "name": "ipython",
    "version": 3
   },
   "file_extension": ".py",
   "mimetype": "text/x-python",
   "name": "python",
   "nbconvert_exporter": "python",
   "pygments_lexer": "ipython3",
   "version": "3.7.3"
  }
 },
 "nbformat": 4,
 "nbformat_minor": 2
}
